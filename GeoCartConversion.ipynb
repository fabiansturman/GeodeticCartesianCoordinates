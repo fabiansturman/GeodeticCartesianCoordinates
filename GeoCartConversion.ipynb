{
  "nbformat": 4,
  "nbformat_minor": 0,
  "metadata": {
    "colab": {
      "provenance": []
    },
    "kernelspec": {
      "name": "python3",
      "display_name": "Python 3"
    },
    "language_info": {
      "name": "python"
    }
  },
  "cells": [
    {
      "cell_type": "markdown",
      "source": [
        "This code provides functionality for conversion between cartesian coordinates and geodetic coordinates. It is a python implementation of the algorithm proposed by Ligas and Banasik [1].\n",
        "\n",
        "The methodology descibed in their paper is replicated here, with their application of Newton's Rule replaced with a more generic function; I use scipy.optimize.root with several potentail root-finding algorithms, including Broyden's method.\n",
        "\n",
        "The calculation of lat-long-height coordinates from cartestians is split into 3 steps:\n",
        "1.\tTake a cartesian point and find the longitude of this point using the closed form equation provided above (arctan(Y/X))\n",
        "2.\tProject the cartesian point onto the surface of the ellipsoid (as in [1], Figure 2)\n",
        "3.\tCalculate the latitude and height of the projected point, and use this to calculate the geodetic coordinates of the original cartesian point.\n",
        "\n",
        "By default, this code uses WGS 84 to model the Earth, howeever these optional parameters can be overriden.\n",
        "\n",
        "\n",
        "\n",
        "[1] Ligas, Marcin & Banasik, Piotr. (2011). Conversion between Cartesian and geodetic coordinates on a rotational ellipsoid by solving a system of nonlinear equations. Geodesy and Cartography. 60. 145-159. 10.2478/v10277-012-0013-x."
      ],
      "metadata": {
        "id": "qtYWiWI_m6dx"
      }
    },
    {
      "cell_type": "code",
      "execution_count": null,
      "metadata": {
        "id": "_PkQJw_D1CXQ"
      },
      "outputs": [],
      "source": [
        "import numpy as np\n",
        "from scipy import optimize"
      ]
    },
    {
      "cell_type": "code",
      "source": [
        "#This function calculates (phi, h)\n",
        "def step3(H, p_E, z_E, p_G,z_G):\n",
        "  tan_phi = H*H*z_E / p_E\n",
        "  phi = np.arctan(tan_phi) * (180/np.pi)\n",
        "  h = np.sqrt(np.square(p_E -p_G) + np.square(z_E - z_G))\n",
        "  if p_G + np.abs(z_G) < p_E + np.abs(z_E):\n",
        "    h = -h\n",
        "  return [phi,h]"
      ],
      "metadata": {
        "id": "Bp91YXIA-8o5"
      },
      "execution_count": null,
      "outputs": []
    },
    {
      "cell_type": "code",
      "source": [
        "def xyzllh(x,y,z,a=6378,b=6356, trace = False, method = 'broyden1'):\n",
        "  \"\"\"\n",
        "  Converts from xyz coordinates to geodetic coordinates. Uses WGS 84 by default for a, b.\n",
        "  Args:\n",
        "    x,y,z: Cartesian input coordinates (km)\n",
        "    a,b: Defines the elipse with respect to which the geodetic coordinates will lie.\n",
        "    trace: We output the geodetic coordinate estimate at each stage of the iteration iff trace\n",
        "    method: Optimisation algorithm we are using. See documentation for scipy.optimize.root\n",
        "\n",
        "  Returns:\n",
        "    (phi, lambda, h, iterations): 4-tuple of the geodetic coordinates (latitude, longitude, height) and #iterations needed to converge\n",
        "\n",
        "  Angles are in degrees, distances are in km.\n",
        "  \"\"\"\n",
        "  global iters;   iters = 0\n",
        "\n",
        "  ##Step 1: find lambda using the standard closed form method\n",
        "  lambda_1 = np.arctan(y/x) * (180/np.pi)\n",
        "\n",
        "  w = np.sqrt(x*x + y*y)\n",
        "  lambda_2 = 2 * np.arctan(y/(x+w))  * (180/np.pi)\n",
        "    #lambda_1 is calculated more directly but this is less numerically stable than lambda_2 (Claesenns, 2019).\n",
        "    #Ignoring numerical stability, we can expect lambda_1 == lambda_2\n",
        "  if trace:\n",
        "    print(f\"Lambda calucalted directly = {lambda_1} , lambda calculated with numerical stability = {lambda_2}\")\n",
        "\n",
        "\n",
        "  ##Step 2a: Project (x,y,z) onto (p_G,z); as Step 2 can be completed in 2 dimensions\n",
        "  p_G = np.sqrt(x*x + y*y)\n",
        "  z_G = z\n",
        "\n",
        "  ##Step 2b: Solve for (p_E, z_E). We use scipy's implementation of the Newton method.\n",
        "  G = b/a ; H = a/b ; K=a*b\n",
        "\n",
        "    #Function of which to find the root\n",
        "  def fun(x):\n",
        "    pe = x[0];ze = x[1]; s3 = step3(H, pe, ze, p_G, z_G)\n",
        "    global iters; iters = iters+1\n",
        "    if trace:\n",
        "      print(f\"TRACE: Current geodetic coordindates: (lat, long, height) = ({s3[0]}, {lambda_2}, {s3[1]})\")\n",
        "    return [(pe - p_G)*H*ze - (ze - z_G) * G * pe,\n",
        "             G* pe*pe + H * ze*ze - K]\n",
        "\n",
        "    #Jacobian of f. Not used for all optimisation methods (e.g. broyden approximates jacobian itself)\n",
        "  def jac(x):\n",
        "    pe = x[0];ze = x[1]\n",
        "    return np.array([[H*ze - (ze-z_G) * G, (pe-p_G) * H - G*pe],\n",
        "                     [2* G * pe          , 2 * H * ze         ]])\n",
        "\n",
        "    #Starting point for applying iterative method\n",
        "  r = 1/np.sqrt(p_G*p_G + z_G*z_G)\n",
        "  p_start = a * p_G * r\n",
        "  z_start = b * z_G * r\n",
        "\n",
        "  root = optimize.root(fun, [p_start, z_start], jac=jac, method=method).x\n",
        "  print(root)\n",
        "  ##Step 3: Convert to, print, and return, geodetic coordinates\n",
        "  toret = step3(H, root[0], root[1], p_G, z_G)\n",
        "\n",
        "  if trace:\n",
        "    print(f\"\\nFinal geodetic coordinates = {(toret[0], lambda_2, toret[1])}\")\n",
        "    print(f\"lambda_1 = {lambda_1}\")\n",
        "    print(f\"{iters} iterations until convergence\")\n",
        "\n",
        "  return (toret[0], lambda_2, toret[1], iters)\n"
      ],
      "metadata": {
        "id": "bg6IT4DU1Hvt"
      },
      "execution_count": null,
      "outputs": []
    },
    {
      "cell_type": "code",
      "source": [
        "xyzllh(11,11,11,trace = True)"
      ],
      "metadata": {
        "id": "HFP-PyHc5DGX"
      },
      "execution_count": null,
      "outputs": []
    },
    {
      "cell_type": "code",
      "source": [
        "xyzllh(6330,553,552)"
      ],
      "metadata": {
        "colab": {
          "base_uri": "https://localhost:8080/"
        },
        "id": "TtJI-jeuF-VZ",
        "outputId": "1e3b2aef-ea75-4f9a-cdc3-0d429dcb949a"
      },
      "execution_count": null,
      "outputs": [
        {
          "output_type": "stream",
          "name": "stdout",
          "text": [
            "Lambda calucalted directly = 4.99278464756959 , lambda calculated with numerical stability = 4.99278464756959\n",
            "[6353.90329408  551.98195201]\n",
            "\n",
            "Final geodetic coordinates = (4.999241166720222, 4.99278464756959, 0.2071088328817116)\n",
            "lambda_1 = 4.99278464756959\n"
          ]
        },
        {
          "output_type": "execute_result",
          "data": {
            "text/plain": [
              "(4.999241166720222, 4.99278464756959, 0.2071088328817116)"
            ]
          },
          "metadata": {},
          "execution_count": 74
        }
      ]
    },
    {
      "cell_type": "code",
      "source": [
        "def llhxyz(lat, long, h, a=6378,b=6356):\n",
        "  #Input/Output: All angles in degrees, all distances in km\n",
        "\n",
        "  lat *= np.pi/180; long *= np.pi/180 #Convert to radians\n",
        "\n",
        "  e_2 = 1-np.square(b/a) #first eccentricity squared\n",
        "  N = a/np.sqrt(1 - e_2 * np.square(np.sin(lat))) #Radius of curvature in the prime vertical\n",
        "\n",
        "  x = (N+h) * np.cos(lat) * np.cos(long)\n",
        "  y = (N+h) * np.cos(lat) * np.sin(long)\n",
        "  z = ((1-e_2)*N + h) * np.sin(lat)\n",
        "\n",
        "  return (x,y,z)\n"
      ],
      "metadata": {
        "id": "LjKYUGmLRSAG"
      },
      "execution_count": null,
      "outputs": []
    },
    {
      "cell_type": "code",
      "source": [
        "latitude = 0\n",
        "longitude = 0\n",
        "height = 10\n",
        "\n",
        "(x,y,z) = llhxyz(latitude, longitude, height)\n",
        "(la, lo, h, iterations) = xyzllh(x,y,z)\n",
        "\n",
        "print()\n",
        "print(\"RESULTS:\")\n",
        "print(f\"Entered (lat, long, h) = {(latitude, longitude, height)}\")\n",
        "print(f\"Equivalent (x,y,z) = {(x,y,z)}\")\n",
        "print(f\"Converting these cartesian coords back to geodetic coords: {(la, lo, h)}\")\n",
        "print(f\"Numerical root finding took {iterations} iterations\")\n",
        "print()"
      ],
      "metadata": {
        "colab": {
          "base_uri": "https://localhost:8080/"
        },
        "id": "BqeEsuK4ao1m",
        "outputId": "b08800be-80fd-4ef0-a0b5-b06248c1d5c0"
      },
      "execution_count": null,
      "outputs": [
        {
          "output_type": "stream",
          "name": "stdout",
          "text": [
            "[6378.    0.]\n",
            "\n",
            "RESULTS:\n",
            "Entered (lat, long, h) = (0, 0, 10)\n",
            "Equivalent (x,y,z) = (6388.0, 0.0, 0.0)\n",
            "Converting these cartesian coords back to geodetic coords: (0.0, 0.0, 10.0)\n",
            "Numerical root finding took 1 iterations\n",
            "\n"
          ]
        }
      ]
    },
    {
      "cell_type": "code",
      "source": [
        "latitude = 89\n",
        "longitude = 0\n",
        "height = 10\n",
        "\n",
        "(x,y,z) = llhxyz(latitude, longitude, height)\n",
        "(la, lo, h, iterations) = xyzllh(x,y,z)\n",
        "\n",
        "print()\n",
        "print(\"RESULTS:\")\n",
        "print(f\"Entered (lat, long, h) = {(latitude, longitude, height)}\")\n",
        "print(f\"Equivalent (x,y,z) = {(x,y,z)}\")\n",
        "print(f\"Converting these cartesian coords back to geodetic coords: {(la, lo, h)}\")\n",
        "print(f\"Numerical root finding took {iterations} iterations\")\n",
        "print()"
      ],
      "metadata": {
        "colab": {
          "base_uri": "https://localhost:8080/"
        },
        "id": "dRbjWiY0eiwc",
        "outputId": "77d5b1c6-e7a8-499f-e3c0-4722c9adcbab"
      },
      "execution_count": null,
      "outputs": [
        {
          "output_type": "stream",
          "name": "stdout",
          "text": [
            "[ 111.69661221 6355.02523895]\n",
            "\n",
            "RESULTS:\n",
            "Entered (lat, long, h) = (89, 0, 10)\n",
            "Equivalent (x,y,z) = (111.87113627646113, 0.0, 6365.023715898869)\n",
            "Converting these cartesian coords back to geodetic coords: (89.0, 0.0, 10.000000000006498)\n",
            "Numerical root finding took 14 iterations\n",
            "\n"
          ]
        }
      ]
    },
    {
      "cell_type": "code",
      "source": [
        "latitude = 45\n",
        "longitude = 0\n",
        "height = 10\n",
        "\n",
        "(x,y,z) = llhxyz(latitude, longitude, height)\n",
        "(la, lo, h, iterations) = xyzllh(x,y,z)\n",
        "\n",
        "print()\n",
        "print(\"RESULTS:\")\n",
        "print(f\"Entered (lat, long, h) = {(latitude, longitude, height)}\")\n",
        "print(f\"Equivalent (x,y,z) = {(x,y,z)}\")\n",
        "print(f\"Converting these cartesian coords back to geodetic coords: {(la, lo, h)}\")\n",
        "print(f\"Numerical root finding took {iterations} iterations\")\n",
        "print()"
      ],
      "metadata": {
        "colab": {
          "base_uri": "https://localhost:8080/"
        },
        "id": "dQukss4WekqK",
        "outputId": "85b68da8-e6c0-42c5-a278-005232116250"
      },
      "execution_count": null,
      "outputs": [
        {
          "output_type": "stream",
          "name": "stdout",
          "text": [
            "[4517.71192079 4486.59926885]\n",
            "\n",
            "RESULTS:\n",
            "Entered (lat, long, h) = (45, 0, 10)\n",
            "Equivalent (x,y,z) = (4524.782988605142, 0.0, 4493.670336665467)\n",
            "Converting these cartesian coords back to geodetic coords: (44.99999999999972, 0.0, 10.000000000046063)\n",
            "Numerical root finding took 15 iterations\n",
            "\n"
          ]
        }
      ]
    }
  ]
}